{
 "cells": [
  {
   "cell_type": "code",
   "execution_count": 1,
   "metadata": {
    "collapsed": true,
    "deletable": true,
    "editable": true
   },
   "outputs": [],
   "source": [
    "from __future__ import absolute_import,division,print_function\n",
    "import sys\n",
    "sys.path.append('../tfmodels')\n",
    "\n",
    "import numpy as np\n",
    "import tensorflow as tf\n",
    "from user2vec import *\n",
    "#from tensorflow.contrib.rnn.python.ops import core_rnn_cell as rnn_cell\n",
    "#from tensorflow.python.ops import rnn\n",
    "#from tensorflow.python.ops.rnn import bidirectional_dynamic_rnn,dynamic_rnn\n",
    "#from tensorflow.contrib.rnn.python.ops.core_rnn_cell import RNNCell,LSTMCell,LSTMStateTuple\n",
    "\n",
    "#from data import read_data\n",
    "#from memory_model import *\n",
    "import numpy as np\n",
    "import tensorflow as tf\n",
    "from past.builtins import xrange\n",
    "from sklearn.model_selection import train_test_split\n",
    "import h5py\n",
    "import math"
   ]
  },
  {
   "cell_type": "code",
   "execution_count": 2,
   "metadata": {
    "collapsed": true,
    "deletable": true,
    "editable": true
   },
   "outputs": [],
   "source": [
    "x_filename = '/home/host/CORP/wei.wang/data_user2vec_train.h5'\n",
    "\n",
    "h5f = h5py.File(x_filename, 'r')\n",
    "show = h5f['show']\n",
    "isMovie = h5f['isMovie']\n",
    "time = h5f['time']\n",
    "nextShow = h5f['nextShow']\n",
    "nextTime = h5f['nextTime']\n",
    "isTheSame = h5f['isTheSame']\n",
    "cancellation = h5f['cancellation']\n",
    "seq_len = np.zeros(len(show)) + 50\n"
   ]
  },
  {
   "cell_type": "code",
   "execution_count": 3,
   "metadata": {
    "collapsed": true,
    "deletable": true,
    "editable": true
   },
   "outputs": [],
   "source": [
    "flags = tf.app.flags\n",
    "\n",
    "flags.DEFINE_integer(\"nb_words\", 29000, \"term number in input sequence(zero mask) [20001]\")\n",
    "flags.DEFINE_integer(\"maxlen\", 50, \"the max length of input sequence [80]\")\n",
    "flags.DEFINE_integer(\"num_layers\", 1, \"the number of rnn layers [1]\")\n",
    "flags.DEFINE_integer(\"init_std\", 0.05, \"init_std\")\n",
    "flags.DEFINE_integer(\"init_scale\", 1, \"init_scale\")\n",
    "flags.DEFINE_bool('one_hot_embedding', True, 'using one_hot representation as rnn input')\n",
    "flags.DEFINE_integer(\"embedding_size\", 100, \"word embedding size [50]\")\n",
    "flags.DEFINE_integer(\"hidden_size\", 128, \"rnn hidden size [128]\")\n",
    "flags.DEFINE_float(\"keep_prob\", 1.0, \"keep probability of drop out [0.9]\")\n",
    "flags.DEFINE_float(\"learning_rate\", 0.002, \"learning rate [0.001]\")\n",
    "flags.DEFINE_integer(\"batch_size\", 512, \"batch size to use during training [128]\")\n",
    "flags.DEFINE_float(\"clip_gradients\", 5.0, \"clip gradients to this norm [5.0]\")\n",
    "flags.DEFINE_integer(\"n_epochs\", 10, \"number of epoch to use during training [10]\")\n",
    "flags.DEFINE_boolean(\"epoch_save\", True, \"save checkpoint or not in each epoch [True]\")\n",
    "flags.DEFINE_integer(\"print_step\", 100, \"print step duraing training [100]\")\n",
    "flags.DEFINE_string(\"logs_dir\", \"logs/\", \"logs directory [logs/]\")\n",
    "flags.DEFINE_string(\"model_dir\", \"model/\", \"model directory [model/]\")\n",
    "flags.DEFINE_boolean(\"dir_clear\", False, \"clear the log and model directory\")\n",
    "flags.DEFINE_boolean(\"lr_annealing\", False, \"use lr annealing or not after each epoch [False]\")\n",
    "flags.DEFINE_string(\"current_task_name\", 'url_self_prediction', \"current task name [self_prediction]\")\n",
    "flags.DEFINE_integer(\"gpu_id\", 0, \"default gpu id [0]\")\n",
    "flags.DEFINE_integer(\"gpu_num\", 1, \"gpu_num\")\n",
    "\n",
    "FLAGS = flags.FLAGS"
   ]
  },
  {
   "cell_type": "code",
   "execution_count": 4,
   "metadata": {
    "collapsed": true,
    "deletable": true,
    "editable": true
   },
   "outputs": [],
   "source": [
    "idxs = np.arange(0, len(show))\n",
    "idxs = idxs[0:200000]\n",
    "train_idxs, test_idxs = train_test_split(idxs, test_size=0.2, random_state=42)\n"
   ]
  },
  {
   "cell_type": "code",
   "execution_count": 5,
   "metadata": {
    "collapsed": false,
    "deletable": true,
    "editable": true
   },
   "outputs": [
    {
     "name": "stdout",
     "output_type": "stream",
     "text": [
      "Initializing\n"
     ]
    },
    {
     "data": {
      "text/html": [
       "<div>\n",
       "<table border=\"1\" class=\"dataframe\">\n",
       "  <thead>\n",
       "    <tr style=\"text-align: right;\">\n",
       "      <th></th>\n",
       "      <th>variable_name</th>\n",
       "      <th>variable_shape</th>\n",
       "      <th>parameters</th>\n",
       "    </tr>\n",
       "  </thead>\n",
       "  <tbody>\n",
       "    <tr>\n",
       "      <th>0</th>\n",
       "      <td>global/Variable:0</td>\n",
       "      <td>[]</td>\n",
       "      <td>1.0</td>\n",
       "    </tr>\n",
       "    <tr>\n",
       "      <th>1</th>\n",
       "      <td>gpu/embedding/embedding_layer/embedding_table:0</td>\n",
       "      <td>[29000, 100]</td>\n",
       "      <td>2900000.0</td>\n",
       "    </tr>\n",
       "    <tr>\n",
       "      <th>2</th>\n",
       "      <td>gpu/rnn_lstm/rnn/multi_rnn_cell/cell_0/lstm_ce...</td>\n",
       "      <td>[230, 512]</td>\n",
       "      <td>117760.0</td>\n",
       "    </tr>\n",
       "    <tr>\n",
       "      <th>3</th>\n",
       "      <td>gpu/rnn_lstm/rnn/multi_rnn_cell/cell_0/lstm_ce...</td>\n",
       "      <td>[512]</td>\n",
       "      <td>512.0</td>\n",
       "    </tr>\n",
       "    <tr>\n",
       "      <th>4</th>\n",
       "      <td>gpu/rnn_lstm/rnn/multi_rnn_cell/cell_0/lstm_ce...</td>\n",
       "      <td>[128]</td>\n",
       "      <td>128.0</td>\n",
       "    </tr>\n",
       "    <tr>\n",
       "      <th>5</th>\n",
       "      <td>gpu/rnn_lstm/rnn/multi_rnn_cell/cell_0/lstm_ce...</td>\n",
       "      <td>[128]</td>\n",
       "      <td>128.0</td>\n",
       "    </tr>\n",
       "    <tr>\n",
       "      <th>6</th>\n",
       "      <td>gpu/rnn_lstm/rnn/multi_rnn_cell/cell_0/lstm_ce...</td>\n",
       "      <td>[128]</td>\n",
       "      <td>128.0</td>\n",
       "    </tr>\n",
       "    <tr>\n",
       "      <th>7</th>\n",
       "      <td>gpu/prediction/conv_1d/he_uniform/W:0</td>\n",
       "      <td>[1, 128, 29000]</td>\n",
       "      <td>3712000.0</td>\n",
       "    </tr>\n",
       "    <tr>\n",
       "      <th>8</th>\n",
       "      <td>gpu/prediction/conv_1d/B:0</td>\n",
       "      <td>[29000]</td>\n",
       "      <td>29000.0</td>\n",
       "    </tr>\n",
       "  </tbody>\n",
       "</table>\n",
       "</div>"
      ],
      "text/plain": [
       "                                       variable_name   variable_shape  \\\n",
       "0                                  global/Variable:0               []   \n",
       "1    gpu/embedding/embedding_layer/embedding_table:0     [29000, 100]   \n",
       "2  gpu/rnn_lstm/rnn/multi_rnn_cell/cell_0/lstm_ce...       [230, 512]   \n",
       "3  gpu/rnn_lstm/rnn/multi_rnn_cell/cell_0/lstm_ce...            [512]   \n",
       "4  gpu/rnn_lstm/rnn/multi_rnn_cell/cell_0/lstm_ce...            [128]   \n",
       "5  gpu/rnn_lstm/rnn/multi_rnn_cell/cell_0/lstm_ce...            [128]   \n",
       "6  gpu/rnn_lstm/rnn/multi_rnn_cell/cell_0/lstm_ce...            [128]   \n",
       "7              gpu/prediction/conv_1d/he_uniform/W:0  [1, 128, 29000]   \n",
       "8                         gpu/prediction/conv_1d/B:0          [29000]   \n",
       "\n",
       "   parameters  \n",
       "0         1.0  \n",
       "1   2900000.0  \n",
       "2    117760.0  \n",
       "3       512.0  \n",
       "4       128.0  \n",
       "5       128.0  \n",
       "6       128.0  \n",
       "7   3712000.0  \n",
       "8     29000.0  "
      ]
     },
     "metadata": {},
     "output_type": "display_data"
    }
   ],
   "source": [
    "res = {}\n",
    "graph_to_use = tf.Graph()\n",
    "config = tf.ConfigProto(allow_soft_placement=True)\n",
    "config.gpu_options.allow_growth=True\n",
    "with tf.Session(graph=graph_to_use, config=config) as session:\n",
    "    user2vec_model = User2VecModel(FLAGS, session, current_task_name='user2vec_model')\n",
    "    user2vec_model.build_model()\n",
    "    user2vec_model.build_model_summary()\n",
    "    #user2vec_model.model_resotre()\n",
    "    display(user2vec_model.model_summary())\n",
    "    #user2vec_model.run([show,seq_len,isMovie,time], train_idxs, test_idxs)\n",
    "    for var in tf.trainable_variables():\n",
    "        res[var.name] = var.eval()\n",
    "        \n"
   ]
  },
  {
   "cell_type": "code",
   "execution_count": null,
   "metadata": {
    "collapsed": true,
    "deletable": true,
    "editable": true
   },
   "outputs": [],
   "source": [
    "#i, j, f, o = np.split(res['rnn/multi_rnn_cell/cell_0/lstm_cell/weights:0'], 4, 1)\n",
    "#ib, jb, fb, ob = np.split(res['rnn/multi_rnn_cell/cell_0/lstm_cell/biases:0'], 4, 0)\n",
    "#w = res['self_time_distributed_fc1/W:0']\n",
    "#b = res['self_time_distributed_fc1/B:0']\n"
   ]
  }
 ],
 "metadata": {
  "kernelspec": {
   "display_name": "Python 2",
   "language": "python",
   "name": "python2"
  },
  "language_info": {
   "codemirror_mode": {
    "name": "ipython",
    "version": 2
   },
   "file_extension": ".py",
   "mimetype": "text/x-python",
   "name": "python",
   "nbconvert_exporter": "python",
   "pygments_lexer": "ipython2",
   "version": "2.7.13"
  }
 },
 "nbformat": 4,
 "nbformat_minor": 2
}
