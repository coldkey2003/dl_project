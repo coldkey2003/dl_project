{
 "cells": [
  {
   "cell_type": "code",
   "execution_count": 1,
   "metadata": {
    "collapsed": true,
    "deletable": true,
    "editable": true
   },
   "outputs": [],
   "source": [
    "import os\n",
    "import pprint\n",
    "import math\n",
    "import time\n",
    "from sklearn.model_selection import train_test_split\n",
    "import sys\n",
    "sys.path.append('../tfmodels')\n",
    "import bottleneck as bn\n",
    "\n",
    "import random\n",
    "import numpy as np\n",
    "from past.builtins import xrange\n",
    "import pandas as pd\n",
    "\n",
    "#from data import read_data\n",
    "from memory_model import *"
   ]
  },
  {
   "cell_type": "code",
   "execution_count": 2,
   "metadata": {
    "collapsed": true,
    "deletable": true,
    "editable": true
   },
   "outputs": [],
   "source": [
    "flags = tf.app.flags\n",
    "\n",
    "flags.DEFINE_integer(\"nb_words\", 100001, \"term number in input sequence(zero mask)\")\n",
    "flags.DEFINE_integer(\"mem_size\", 30, \"the memory length of input sequence\")\n",
    "flags.DEFINE_integer(\"nhop\", 6, \"the number of hop layers\")\n",
    "flags.DEFINE_integer(\"embedding_size\", 300, \"word embedding size\")\n",
    "flags.DEFINE_float(\"init_hid\", 0.1, \"init_hid for q\")\n",
    "flags.DEFINE_float(\"init_std\", 0.05, \"init_std for training variable\")\n",
    "\n",
    "flags.DEFINE_float(\"linear_ratio\", 0.5, \"keep probability of drop out [0.9]\")\n",
    "flags.DEFINE_float(\"learning_rate\", 0.01, \"learning rate [0.001]\")\n",
    "flags.DEFINE_integer(\"batch_size\", 1024, \"batch size to use during training [128]\")\n",
    "flags.DEFINE_float(\"clip_gradients\", 50.0, \"clip gradients to this norm\")\n",
    "flags.DEFINE_integer(\"n_epochs\", 100, \"number of epoch to use during training\")\n",
    "flags.DEFINE_boolean(\"epoch_save\", True, \"save checkpoint or not in each epoch\")\n",
    "flags.DEFINE_integer(\"print_step\", 500, \"print step duraing training [100]\")\n",
    "flags.DEFINE_string(\"logs_dir\", \"logs/\", \"logs directory [logs/]\")\n",
    "flags.DEFINE_string(\"model_dir\", \"model/\", \"model directory [model/]\")\n",
    "flags.DEFINE_boolean(\"dir_clear\", False, \"clear the log and model directory\")\n",
    "flags.DEFINE_boolean(\"lr_annealing\", True, \"use lr annealing or not after each epoch [False]\")\n",
    "#flags.DEFINE_string(\"current_task_name\", '_season_prediction', \"current task name [self_prediction]\")\n",
    "flags.DEFINE_integer(\"gpu_id\", 0, \"default gpu id [0]\")\n",
    "flags.DEFINE_integer(\"gpu_num\", 4, \"gpu_num\")\n",
    "\n",
    "FLAGS = flags.FLAGS"
   ]
  },
  {
   "cell_type": "code",
   "execution_count": 3,
   "metadata": {
    "collapsed": false,
    "deletable": true,
    "editable": true
   },
   "outputs": [],
   "source": [
    "h5_file_path = 'Data/episode_seq_28_for_memory.h5'\n",
    "h5f = h5py.File(h5_file_path, 'r')\n",
    "previous_videos = np.array(h5f['previous_videos'])\n",
    "#previous_viewthrus = h5f['previous_viewthrus']\n",
    "next_seasons = np.array(h5f['next_seasons'])"
   ]
  },
  {
   "cell_type": "code",
   "execution_count": 5,
   "metadata": {
    "collapsed": true,
    "deletable": true,
    "editable": true
   },
   "outputs": [],
   "source": [
    "idxs = np.arange(0, samples)\n",
    "train_idxs, test_idxs = train_test_split(idxs, test_size=0.2, random_state=42)\n",
    "test_idxs = np.sort(test_idxs)"
   ]
  },
  {
   "cell_type": "code",
   "execution_count": 3,
   "metadata": {
    "collapsed": false,
    "deletable": true,
    "editable": true,
    "scrolled": true
   },
   "outputs": [
    {
     "name": "stdout",
     "output_type": "stream",
     "text": [
      "Initializing\n"
     ]
    },
    {
     "data": {
      "text/html": [
       "<div>\n",
       "<table border=\"1\" class=\"dataframe\">\n",
       "  <thead>\n",
       "    <tr style=\"text-align: right;\">\n",
       "      <th></th>\n",
       "      <th>variable_name</th>\n",
       "      <th>variable_shape</th>\n",
       "      <th>parameters</th>\n",
       "    </tr>\n",
       "  </thead>\n",
       "  <tbody>\n",
       "    <tr>\n",
       "      <th>0</th>\n",
       "      <td>global/Variable:0</td>\n",
       "      <td>[]</td>\n",
       "      <td>1.0</td>\n",
       "    </tr>\n",
       "    <tr>\n",
       "      <th>1</th>\n",
       "      <td>gpu/memory/Ain_c/embedding_table:0</td>\n",
       "      <td>[100001, 300]</td>\n",
       "      <td>30000300.0</td>\n",
       "    </tr>\n",
       "    <tr>\n",
       "      <th>2</th>\n",
       "      <td>gpu/memory/Ain_t/W:0</td>\n",
       "      <td>[30, 300]</td>\n",
       "      <td>9000.0</td>\n",
       "    </tr>\n",
       "    <tr>\n",
       "      <th>3</th>\n",
       "      <td>gpu/memory/Cin_c/embedding_table:0</td>\n",
       "      <td>[100001, 300]</td>\n",
       "      <td>30000300.0</td>\n",
       "    </tr>\n",
       "    <tr>\n",
       "      <th>4</th>\n",
       "      <td>gpu/memory/Cin_t/W:0</td>\n",
       "      <td>[30, 300]</td>\n",
       "      <td>9000.0</td>\n",
       "    </tr>\n",
       "    <tr>\n",
       "      <th>5</th>\n",
       "      <td>gpu/momory_hops/hops_h/W:0</td>\n",
       "      <td>[300, 300]</td>\n",
       "      <td>90000.0</td>\n",
       "    </tr>\n",
       "    <tr>\n",
       "      <th>6</th>\n",
       "      <td>gpu/prediction/fc/W:0</td>\n",
       "      <td>[300, 100001]</td>\n",
       "      <td>30000300.0</td>\n",
       "    </tr>\n",
       "  </tbody>\n",
       "</table>\n",
       "</div>"
      ],
      "text/plain": [
       "                        variable_name variable_shape  parameters\n",
       "0                   global/Variable:0             []         1.0\n",
       "1  gpu/memory/Ain_c/embedding_table:0  [100001, 300]  30000300.0\n",
       "2                gpu/memory/Ain_t/W:0      [30, 300]      9000.0\n",
       "3  gpu/memory/Cin_c/embedding_table:0  [100001, 300]  30000300.0\n",
       "4                gpu/memory/Cin_t/W:0      [30, 300]      9000.0\n",
       "5          gpu/momory_hops/hops_h/W:0     [300, 300]     90000.0\n",
       "6               gpu/prediction/fc/W:0  [300, 100001]  30000300.0"
      ]
     },
     "metadata": {},
     "output_type": "display_data"
    }
   ],
   "source": [
    "graph_to_use = tf.Graph()\n",
    "config = tf.ConfigProto(allow_soft_placement=True)\n",
    "config.gpu_options.allow_growth=True\n",
    "with tf.Session(graph=graph_to_use, config=config) as session:\n",
    "    mem_model = MemN2NModel(FLAGS, session, 'memn2n_autoplay_prediction')\n",
    "    mem_model.build_model(type='self', accK=5, nb_class=15001, export_attention=True)\n",
    "    mem_model.build_model_summary()\n",
    "    display(mem_model.model_summary())\n",
    "    #mem_model.run([previous_urls,next_urls], train_idxs, test_idxs)"
   ]
  }
 ],
 "metadata": {
  "kernelspec": {
   "display_name": "Python 2",
   "language": "python",
   "name": "python2"
  },
  "language_info": {
   "codemirror_mode": {
    "name": "ipython",
    "version": 2
   },
   "file_extension": ".py",
   "mimetype": "text/x-python",
   "name": "python",
   "nbconvert_exporter": "python",
   "pygments_lexer": "ipython2",
   "version": "2.7.13"
  }
 },
 "nbformat": 4,
 "nbformat_minor": 2
}
